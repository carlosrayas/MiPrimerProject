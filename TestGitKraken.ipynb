{
 "cells": [
  {
   "cell_type": "markdown",
   "metadata": {},
   "source": [
    "## Presetación "
   ]
  },
  {
   "cell_type": "markdown",
   "metadata": {},
   "source": [
    "- **Nombre:** Carlos Alberto Rayas Orozco\n",
    "- **Profesión:** Estudiante de Ing. Financiera\n",
    "- **Edad:** 19 años\n",
    "- **Pasatimepos:** Series, conocer nuevos lugares, estudiar.\n",
    "- **Educación:** Instituto Tecnologico de Estudios Superiores de Occidente\n",
    "- **Lugar de nacimiento:** Autlan de Navarro"
   ]
  },
  {
   "cell_type": "markdown",
   "metadata": {},
   "source": [
    "**Foto:**\n",
    "    <img src=\"data:image/jpeg;base64,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\" width=\"150px\" height=\"50px\" />\n"
   ]
  },
  {
   "cell_type": "markdown",
   "metadata": {},
   "source": [
    "#### ECUACIONES"
   ]
  },
  {
   "cell_type": "markdown",
   "metadata": {},
   "source": [
    "$F(x) = \\sin(x)$"
   ]
  },
  {
   "cell_type": "markdown",
   "metadata": {},
   "source": [
    "$F(x) = \\sin(x)$"
   ]
  },
  {
   "cell_type": "markdown",
   "metadata": {},
   "source": [
    "$$\\frac{df}{dx} = -\\nabla\\psi $$"
   ]
  },
  {
   "cell_type": "markdown",
   "metadata": {},
   "source": [
    "$$\\frac{df}{dx} = -\\nabla\\psi $$"
   ]
  },
  {
   "cell_type": "code",
   "execution_count": 3,
   "metadata": {},
   "outputs": [],
   "source": [
    "import matplotlib.pyplot as plt\n",
    "import numpy as np\n",
    "%matplotlib inline"
   ]
  },
  {
   "cell_type": "code",
   "execution_count": 4,
   "metadata": {},
   "outputs": [
    {
     "ename": "TypeError",
     "evalue": "__init__() got an unexpected keyword argument 'figsine'",
     "output_type": "error",
     "traceback": [
      "\u001b[1;31m---------------------------------------------------------------------------\u001b[0m",
      "\u001b[1;31mTypeError\u001b[0m                                 Traceback (most recent call last)",
      "\u001b[1;32m<ipython-input-4-bb10a2ec5589>\u001b[0m in \u001b[0;36m<module>\u001b[1;34m()\u001b[0m\n\u001b[0;32m      1\u001b[0m \u001b[0mx\u001b[0m\u001b[1;33m=\u001b[0m \u001b[0mnp\u001b[0m\u001b[1;33m.\u001b[0m\u001b[0mlinspace\u001b[0m \u001b[1;33m(\u001b[0m\u001b[1;33m-\u001b[0m\u001b[1;36m2\u001b[0m\u001b[1;33m*\u001b[0m\u001b[0mnp\u001b[0m\u001b[1;33m.\u001b[0m\u001b[0mpi\u001b[0m\u001b[1;33m,\u001b[0m \u001b[1;36m2\u001b[0m\u001b[1;33m*\u001b[0m\u001b[0mnp\u001b[0m\u001b[1;33m.\u001b[0m\u001b[0mpi\u001b[0m\u001b[1;33m,\u001b[0m \u001b[1;36m100\u001b[0m\u001b[1;33m)\u001b[0m\u001b[1;33m\u001b[0m\u001b[0m\n\u001b[1;32m----> 2\u001b[1;33m \u001b[0mplt\u001b[0m\u001b[1;33m.\u001b[0m\u001b[0mfigure\u001b[0m\u001b[1;33m(\u001b[0m\u001b[0mfigsine\u001b[0m \u001b[1;33m=\u001b[0m \u001b[1;33m(\u001b[0m\u001b[1;36m4\u001b[0m\u001b[1;33m,\u001b[0m\u001b[1;36m3\u001b[0m\u001b[1;33m)\u001b[0m\u001b[1;33m)\u001b[0m\u001b[1;33m\u001b[0m\u001b[0m\n\u001b[0m\u001b[0;32m      3\u001b[0m \u001b[0mplt\u001b[0m\u001b[1;33m.\u001b[0m\u001b[0mplot\u001b[0m\u001b[1;33m(\u001b[0m\u001b[0mx\u001b[0m\u001b[1;33m,\u001b[0m \u001b[0mnp\u001b[0m\u001b[1;33m.\u001b[0m\u001b[0msin\u001b[0m\u001b[1;33m(\u001b[0m\u001b[0mx\u001b[0m\u001b[1;33m)\u001b[0m\u001b[1;33m)\u001b[0m\u001b[1;33m;\u001b[0m\u001b[1;33m\u001b[0m\u001b[0m\n",
      "\u001b[1;32m~\\Anaconda3\\lib\\site-packages\\matplotlib\\pyplot.py\u001b[0m in \u001b[0;36mfigure\u001b[1;34m(num, figsize, dpi, facecolor, edgecolor, frameon, FigureClass, clear, **kwargs)\u001b[0m\n\u001b[0;32m    546\u001b[0m                                         \u001b[0mframeon\u001b[0m\u001b[1;33m=\u001b[0m\u001b[0mframeon\u001b[0m\u001b[1;33m,\u001b[0m\u001b[1;33m\u001b[0m\u001b[0m\n\u001b[0;32m    547\u001b[0m                                         \u001b[0mFigureClass\u001b[0m\u001b[1;33m=\u001b[0m\u001b[0mFigureClass\u001b[0m\u001b[1;33m,\u001b[0m\u001b[1;33m\u001b[0m\u001b[0m\n\u001b[1;32m--> 548\u001b[1;33m                                         **kwargs)\n\u001b[0m\u001b[0;32m    549\u001b[0m \u001b[1;33m\u001b[0m\u001b[0m\n\u001b[0;32m    550\u001b[0m         \u001b[1;32mif\u001b[0m \u001b[0mfigLabel\u001b[0m\u001b[1;33m:\u001b[0m\u001b[1;33m\u001b[0m\u001b[0m\n",
      "\u001b[1;32m~\\Anaconda3\\lib\\site-packages\\matplotlib\\backend_bases.py\u001b[0m in \u001b[0;36mnew_figure_manager\u001b[1;34m(cls, num, *args, **kwargs)\u001b[0m\n\u001b[0;32m    158\u001b[0m         \u001b[1;32mfrom\u001b[0m \u001b[0mmatplotlib\u001b[0m\u001b[1;33m.\u001b[0m\u001b[0mfigure\u001b[0m \u001b[1;32mimport\u001b[0m \u001b[0mFigure\u001b[0m\u001b[1;33m\u001b[0m\u001b[0m\n\u001b[0;32m    159\u001b[0m         \u001b[0mfig_cls\u001b[0m \u001b[1;33m=\u001b[0m \u001b[0mkwargs\u001b[0m\u001b[1;33m.\u001b[0m\u001b[0mpop\u001b[0m\u001b[1;33m(\u001b[0m\u001b[1;34m'FigureClass'\u001b[0m\u001b[1;33m,\u001b[0m \u001b[0mFigure\u001b[0m\u001b[1;33m)\u001b[0m\u001b[1;33m\u001b[0m\u001b[0m\n\u001b[1;32m--> 160\u001b[1;33m         \u001b[0mfig\u001b[0m \u001b[1;33m=\u001b[0m \u001b[0mfig_cls\u001b[0m\u001b[1;33m(\u001b[0m\u001b[1;33m*\u001b[0m\u001b[0margs\u001b[0m\u001b[1;33m,\u001b[0m \u001b[1;33m**\u001b[0m\u001b[0mkwargs\u001b[0m\u001b[1;33m)\u001b[0m\u001b[1;33m\u001b[0m\u001b[0m\n\u001b[0m\u001b[0;32m    161\u001b[0m         \u001b[1;32mreturn\u001b[0m \u001b[0mcls\u001b[0m\u001b[1;33m.\u001b[0m\u001b[0mnew_figure_manager_given_figure\u001b[0m\u001b[1;33m(\u001b[0m\u001b[0mnum\u001b[0m\u001b[1;33m,\u001b[0m \u001b[0mfig\u001b[0m\u001b[1;33m)\u001b[0m\u001b[1;33m\u001b[0m\u001b[0m\n\u001b[0;32m    162\u001b[0m \u001b[1;33m\u001b[0m\u001b[0m\n",
      "\u001b[1;31mTypeError\u001b[0m: __init__() got an unexpected keyword argument 'figsine'"
     ]
    }
   ],
   "source": [
    "x = np.linspace (-2*np.pi, 2*np.pi, 100)\n",
    "plt.figure(figsine = (4,3))\n",
    "plt.plot(x, np.sin(x));"
   ]
  },
  {
   "cell_type": "markdown",
   "metadata": {},
   "source": [
    "**MiniChatBot, Alice**"
   ]
  },
  {
   "cell_type": "code",
   "execution_count": 3,
   "metadata": {},
   "outputs": [],
   "source": [
    "Q1 = \"¿Cómo te llamas?\"\n",
    "Q2 = \"¿Qué edad tienes?\"\n",
    "Q3 = \"¿Donde vives?\"\n",
    "Q4 = \"¿Sexo?\""
   ]
  },
  {
   "cell_type": "code",
   "execution_count": 4,
   "metadata": {},
   "outputs": [
    {
     "data": {
      "text/plain": [
       "['¿Cómo te llamas?', '¿Qué edad tienes?', '¿Donde vives?', '¿Sexo?']"
      ]
     },
     "execution_count": 4,
     "metadata": {},
     "output_type": "execute_result"
    }
   ],
   "source": [
    "QS= [Q1, Q2, Q3, Q4]\n",
    "QS"
   ]
  },
  {
   "cell_type": "code",
   "execution_count": 5,
   "metadata": {},
   "outputs": [],
   "source": [
    "ANS1 = \"Mucho gusto, me llamo Alice\"\n",
    "ANS2 = \"lEGAL!\"\n",
    "ANS3 = \"Órale, muy bien.\"\n",
    "ANS4 = \"Primero vamos a cenar.\""
   ]
  },
  {
   "cell_type": "code",
   "execution_count": 6,
   "metadata": {},
   "outputs": [
    {
     "data": {
      "text/plain": [
       "['Mucho gusto, me llamo Alice',\n",
       " 'lEGAL!',\n",
       " 'Órale, muy bien.',\n",
       " 'Primero vamos a cenar.']"
      ]
     },
     "execution_count": 6,
     "metadata": {},
     "output_type": "execute_result"
    }
   ],
   "source": [
    "ANSS=[ANS1, ANS2, ANS3, ANS4]\n",
    "ANSS"
   ]
  },
  {
   "cell_type": "code",
   "execution_count": 22,
   "metadata": {},
   "outputs": [
    {
     "ename": "SyntaxError",
     "evalue": "invalid syntax (<ipython-input-22-1e5fedcbc919>, line 7)",
     "output_type": "error",
     "traceback": [
      "\u001b[1;36m  File \u001b[1;32m\"<ipython-input-22-1e5fedcbc919>\"\u001b[1;36m, line \u001b[1;32m7\u001b[0m\n\u001b[1;33m    edad = input (int\">>>\")\u001b[0m\n\u001b[1;37m                         ^\u001b[0m\n\u001b[1;31mSyntaxError\u001b[0m\u001b[1;31m:\u001b[0m invalid syntax\n"
     ]
    }
   ],
   "source": [
    "def chatAlice():\n",
    "    print (\"Hola, bienvenite!, Tengo algunas preguntas para ti.\")\n",
    "    print(QS[0])\n",
    "    nombre = input(\">>>\")\n",
    "    print (ANSS[0]+ \" Me gusta tu nombre %s\" % nombre)\n",
    "    print (QS[1])\n",
    "    edad = input (int\">>>\")\n",
    "    print (ANSS[1]+\" Ya vas a cumplir %s\" %(edad+1))\n",
    "    print (QS[2])\n",
    "    viv = input(\">>>\")\n",
    "    print (ANSS[2])\n",
    "    "
   ]
  },
  {
   "cell_type": "code",
   "execution_count": 20,
   "metadata": {},
   "outputs": [
    {
     "name": "stdout",
     "output_type": "stream",
     "text": [
      "Hola, bienvenite!, Tengo algunas preguntas para ti.\n",
      "¿Cómo te llamas?\n",
      ">>>sd\n",
      "Mucho gusto, me llamo Alice Me gusta tu nombre sd\n",
      "¿Qué edad tienes?\n",
      ">>>fd\n",
      "lEGAL!\n",
      "¿Donde vives?\n",
      ">>>fd\n",
      "Órale, muy bien.\n"
     ]
    }
   ],
   "source": [
    "chatAlice()"
   ]
  },
  {
   "cell_type": "code",
   "execution_count": 26,
   "metadata": {},
   "outputs": [],
   "source": [
    "%run welcome.py"
   ]
  },
  {
   "cell_type": "code",
   "execution_count": null,
   "metadata": {},
   "outputs": [],
   "source": []
  },
  {
   "cell_type": "code",
   "execution_count": null,
   "metadata": {},
   "outputs": [],
   "source": []
  }
 ],
 "metadata": {
  "kernelspec": {
   "display_name": "Python 3",
   "language": "python",
   "name": "python3"
  },
  "language_info": {
   "codemirror_mode": {
    "name": "ipython",
    "version": 3
   },
   "file_extension": ".py",
   "mimetype": "text/x-python",
   "name": "python",
   "nbconvert_exporter": "python",
   "pygments_lexer": "ipython3",
   "version": "3.6.5"
  }
 },
 "nbformat": 4,
 "nbformat_minor": 2
}
